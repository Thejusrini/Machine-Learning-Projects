{
  "nbformat": 4,
  "nbformat_minor": 0,
  "metadata": {
    "colab": {
      "name": "Wine Quality Red.ipynb",
      "provenance": [],
      "collapsed_sections": []
    },
    "kernelspec": {
      "name": "python3",
      "display_name": "Python 3"
    },
    "language_info": {
      "name": "python"
    }
  },
  "cells": [
    {
      "cell_type": "code",
      "metadata": {
        "id": "wT-eE549zJ1Q"
      },
      "source": [
        "import pandas as pd\n",
        "import numpy as np\n",
        "import matplotlib.pyplot as plt\n",
        "\n",
        "from sklearn.preprocessing import StandardScaler\n",
        "from sklearn.model_selection import train_test_split\n",
        "\n",
        "from sklearn.linear_model import LogisticRegression\n",
        "from sklearn.tree import DecisionTreeClassifier\n",
        "from statistics import mode\n",
        "from sklearn.metrics import confusion_matrix\n",
        "from sklearn.metrics import accuracy_score\n",
        "from sklearn.metrics import classification_report\n",
        "\n",
        "\n",
        "from numpy import mean\n",
        "from numpy import std\n",
        "from sklearn.datasets import make_classification\n",
        "from sklearn.model_selection import KFold\n",
        "from sklearn.model_selection import cross_val_score\n"
      ],
      "execution_count": 2,
      "outputs": []
    },
    {
      "cell_type": "code",
      "metadata": {
        "colab": {
          "base_uri": "https://localhost:8080/",
          "height": 250
        },
        "id": "nKxMbX_d0HRn",
        "outputId": "f0299129-1ac5-462c-9bf4-b140106ef9ef"
      },
      "source": [
        "df=pd.read_csv('https://raw.githubusercontent.com/Thejusrini/Machine-Learning-Projects/main/winequality-red.csv')\n",
        "df.head()"
      ],
      "execution_count": 4,
      "outputs": [
        {
          "output_type": "execute_result",
          "data": {
            "text/html": [
              "\n",
              "  <div id=\"df-0c5b5b9e-0b43-4586-a195-2d001afc645b\">\n",
              "    <div class=\"colab-df-container\">\n",
              "      <div>\n",
              "<style scoped>\n",
              "    .dataframe tbody tr th:only-of-type {\n",
              "        vertical-align: middle;\n",
              "    }\n",
              "\n",
              "    .dataframe tbody tr th {\n",
              "        vertical-align: top;\n",
              "    }\n",
              "\n",
              "    .dataframe thead th {\n",
              "        text-align: right;\n",
              "    }\n",
              "</style>\n",
              "<table border=\"1\" class=\"dataframe\">\n",
              "  <thead>\n",
              "    <tr style=\"text-align: right;\">\n",
              "      <th></th>\n",
              "      <th>fixed acidity</th>\n",
              "      <th>volatile acidity</th>\n",
              "      <th>citric acid</th>\n",
              "      <th>residual sugar</th>\n",
              "      <th>chlorides</th>\n",
              "      <th>free sulfur dioxide</th>\n",
              "      <th>total sulfur dioxide</th>\n",
              "      <th>density</th>\n",
              "      <th>pH</th>\n",
              "      <th>sulphates</th>\n",
              "      <th>alcohol</th>\n",
              "      <th>quality</th>\n",
              "    </tr>\n",
              "  </thead>\n",
              "  <tbody>\n",
              "    <tr>\n",
              "      <th>0</th>\n",
              "      <td>7.4</td>\n",
              "      <td>0.70</td>\n",
              "      <td>0.00</td>\n",
              "      <td>1.9</td>\n",
              "      <td>0.076</td>\n",
              "      <td>11.0</td>\n",
              "      <td>34.0</td>\n",
              "      <td>0.9978</td>\n",
              "      <td>3.51</td>\n",
              "      <td>0.56</td>\n",
              "      <td>9.4</td>\n",
              "      <td>5</td>\n",
              "    </tr>\n",
              "    <tr>\n",
              "      <th>1</th>\n",
              "      <td>7.8</td>\n",
              "      <td>0.88</td>\n",
              "      <td>0.00</td>\n",
              "      <td>2.6</td>\n",
              "      <td>0.098</td>\n",
              "      <td>25.0</td>\n",
              "      <td>67.0</td>\n",
              "      <td>0.9968</td>\n",
              "      <td>3.20</td>\n",
              "      <td>0.68</td>\n",
              "      <td>9.8</td>\n",
              "      <td>5</td>\n",
              "    </tr>\n",
              "    <tr>\n",
              "      <th>2</th>\n",
              "      <td>7.8</td>\n",
              "      <td>0.76</td>\n",
              "      <td>0.04</td>\n",
              "      <td>2.3</td>\n",
              "      <td>0.092</td>\n",
              "      <td>15.0</td>\n",
              "      <td>54.0</td>\n",
              "      <td>0.9970</td>\n",
              "      <td>3.26</td>\n",
              "      <td>0.65</td>\n",
              "      <td>9.8</td>\n",
              "      <td>5</td>\n",
              "    </tr>\n",
              "    <tr>\n",
              "      <th>3</th>\n",
              "      <td>11.2</td>\n",
              "      <td>0.28</td>\n",
              "      <td>0.56</td>\n",
              "      <td>1.9</td>\n",
              "      <td>0.075</td>\n",
              "      <td>17.0</td>\n",
              "      <td>60.0</td>\n",
              "      <td>0.9980</td>\n",
              "      <td>3.16</td>\n",
              "      <td>0.58</td>\n",
              "      <td>9.8</td>\n",
              "      <td>6</td>\n",
              "    </tr>\n",
              "    <tr>\n",
              "      <th>4</th>\n",
              "      <td>7.4</td>\n",
              "      <td>0.70</td>\n",
              "      <td>0.00</td>\n",
              "      <td>1.9</td>\n",
              "      <td>0.076</td>\n",
              "      <td>11.0</td>\n",
              "      <td>34.0</td>\n",
              "      <td>0.9978</td>\n",
              "      <td>3.51</td>\n",
              "      <td>0.56</td>\n",
              "      <td>9.4</td>\n",
              "      <td>5</td>\n",
              "    </tr>\n",
              "  </tbody>\n",
              "</table>\n",
              "</div>\n",
              "      <button class=\"colab-df-convert\" onclick=\"convertToInteractive('df-0c5b5b9e-0b43-4586-a195-2d001afc645b')\"\n",
              "              title=\"Convert this dataframe to an interactive table.\"\n",
              "              style=\"display:none;\">\n",
              "        \n",
              "  <svg xmlns=\"http://www.w3.org/2000/svg\" height=\"24px\"viewBox=\"0 0 24 24\"\n",
              "       width=\"24px\">\n",
              "    <path d=\"M0 0h24v24H0V0z\" fill=\"none\"/>\n",
              "    <path d=\"M18.56 5.44l.94 2.06.94-2.06 2.06-.94-2.06-.94-.94-2.06-.94 2.06-2.06.94zm-11 1L8.5 8.5l.94-2.06 2.06-.94-2.06-.94L8.5 2.5l-.94 2.06-2.06.94zm10 10l.94 2.06.94-2.06 2.06-.94-2.06-.94-.94-2.06-.94 2.06-2.06.94z\"/><path d=\"M17.41 7.96l-1.37-1.37c-.4-.4-.92-.59-1.43-.59-.52 0-1.04.2-1.43.59L10.3 9.45l-7.72 7.72c-.78.78-.78 2.05 0 2.83L4 21.41c.39.39.9.59 1.41.59.51 0 1.02-.2 1.41-.59l7.78-7.78 2.81-2.81c.8-.78.8-2.07 0-2.86zM5.41 20L4 18.59l7.72-7.72 1.47 1.35L5.41 20z\"/>\n",
              "  </svg>\n",
              "      </button>\n",
              "      \n",
              "  <style>\n",
              "    .colab-df-container {\n",
              "      display:flex;\n",
              "      flex-wrap:wrap;\n",
              "      gap: 12px;\n",
              "    }\n",
              "\n",
              "    .colab-df-convert {\n",
              "      background-color: #E8F0FE;\n",
              "      border: none;\n",
              "      border-radius: 50%;\n",
              "      cursor: pointer;\n",
              "      display: none;\n",
              "      fill: #1967D2;\n",
              "      height: 32px;\n",
              "      padding: 0 0 0 0;\n",
              "      width: 32px;\n",
              "    }\n",
              "\n",
              "    .colab-df-convert:hover {\n",
              "      background-color: #E2EBFA;\n",
              "      box-shadow: 0px 1px 2px rgba(60, 64, 67, 0.3), 0px 1px 3px 1px rgba(60, 64, 67, 0.15);\n",
              "      fill: #174EA6;\n",
              "    }\n",
              "\n",
              "    [theme=dark] .colab-df-convert {\n",
              "      background-color: #3B4455;\n",
              "      fill: #D2E3FC;\n",
              "    }\n",
              "\n",
              "    [theme=dark] .colab-df-convert:hover {\n",
              "      background-color: #434B5C;\n",
              "      box-shadow: 0px 1px 3px 1px rgba(0, 0, 0, 0.15);\n",
              "      filter: drop-shadow(0px 1px 2px rgba(0, 0, 0, 0.3));\n",
              "      fill: #FFFFFF;\n",
              "    }\n",
              "  </style>\n",
              "\n",
              "      <script>\n",
              "        const buttonEl =\n",
              "          document.querySelector('#df-0c5b5b9e-0b43-4586-a195-2d001afc645b button.colab-df-convert');\n",
              "        buttonEl.style.display =\n",
              "          google.colab.kernel.accessAllowed ? 'block' : 'none';\n",
              "\n",
              "        async function convertToInteractive(key) {\n",
              "          const element = document.querySelector('#df-0c5b5b9e-0b43-4586-a195-2d001afc645b');\n",
              "          const dataTable =\n",
              "            await google.colab.kernel.invokeFunction('convertToInteractive',\n",
              "                                                     [key], {});\n",
              "          if (!dataTable) return;\n",
              "\n",
              "          const docLinkHtml = 'Like what you see? Visit the ' +\n",
              "            '<a target=\"_blank\" href=https://colab.research.google.com/notebooks/data_table.ipynb>data table notebook</a>'\n",
              "            + ' to learn more about interactive tables.';\n",
              "          element.innerHTML = '';\n",
              "          dataTable['output_type'] = 'display_data';\n",
              "          await google.colab.output.renderOutput(dataTable, element);\n",
              "          const docLink = document.createElement('div');\n",
              "          docLink.innerHTML = docLinkHtml;\n",
              "          element.appendChild(docLink);\n",
              "        }\n",
              "      </script>\n",
              "    </div>\n",
              "  </div>\n",
              "  "
            ],
            "text/plain": [
              "   fixed acidity  volatile acidity  citric acid  ...  sulphates  alcohol  quality\n",
              "0            7.4              0.70         0.00  ...       0.56      9.4        5\n",
              "1            7.8              0.88         0.00  ...       0.68      9.8        5\n",
              "2            7.8              0.76         0.04  ...       0.65      9.8        5\n",
              "3           11.2              0.28         0.56  ...       0.58      9.8        6\n",
              "4            7.4              0.70         0.00  ...       0.56      9.4        5\n",
              "\n",
              "[5 rows x 12 columns]"
            ]
          },
          "metadata": {},
          "execution_count": 4
        }
      ]
    },
    {
      "cell_type": "markdown",
      "source": [
        "#Preprocessing"
      ],
      "metadata": {
        "id": "ep8YvcgX6FZp"
      }
    },
    {
      "cell_type": "code",
      "metadata": {
        "colab": {
          "base_uri": "https://localhost:8080/"
        },
        "id": "hb369JbfdBuk",
        "outputId": "1cf4e1fd-4b75-4ba7-81d7-25b2ca5b11e4"
      },
      "source": [
        "df['quality'].value_counts()"
      ],
      "execution_count": null,
      "outputs": [
        {
          "output_type": "execute_result",
          "data": {
            "text/plain": [
              "5    681\n",
              "6    638\n",
              "7    199\n",
              "4     53\n",
              "8     18\n",
              "3     10\n",
              "Name: quality, dtype: int64"
            ]
          },
          "metadata": {},
          "execution_count": 8
        }
      ]
    },
    {
      "cell_type": "code",
      "metadata": {
        "colab": {
          "base_uri": "https://localhost:8080/"
        },
        "id": "QYdtXaW50Km9",
        "outputId": "0c97b4e2-749e-4ccf-a9f9-3401b7080fd7"
      },
      "source": [
        "df.shape"
      ],
      "execution_count": null,
      "outputs": [
        {
          "output_type": "execute_result",
          "data": {
            "text/plain": [
              "(1599, 12)"
            ]
          },
          "metadata": {},
          "execution_count": 9
        }
      ]
    },
    {
      "cell_type": "code",
      "metadata": {
        "colab": {
          "base_uri": "https://localhost:8080/"
        },
        "id": "A6XDdkHtLU6W",
        "outputId": "b78cd7ec-2ae5-49af-e0d9-455ebeb07841"
      },
      "source": [
        "df.isnull().sum()"
      ],
      "execution_count": null,
      "outputs": [
        {
          "output_type": "execute_result",
          "data": {
            "text/plain": [
              "fixed acidity           0\n",
              "volatile acidity        0\n",
              "citric acid             0\n",
              "residual sugar          0\n",
              "chlorides               0\n",
              "free sulfur dioxide     0\n",
              "total sulfur dioxide    0\n",
              "density                 0\n",
              "pH                      0\n",
              "sulphates               0\n",
              "alcohol                 0\n",
              "quality                 0\n",
              "dtype: int64"
            ]
          },
          "metadata": {},
          "execution_count": 10
        }
      ]
    },
    {
      "cell_type": "markdown",
      "metadata": {
        "id": "8kuAnbE1LYO8"
      },
      "source": [
        "no missing values"
      ]
    },
    {
      "cell_type": "code",
      "metadata": {
        "colab": {
          "base_uri": "https://localhost:8080/",
          "height": 1000
        },
        "id": "TSq8QIxuLaIy",
        "outputId": "ca8d4dfb-ef98-4003-9f2a-c1dd11ee74e1"
      },
      "source": [
        "fig1 ,ax1 = plt.subplots(nrows=4,ncols=3,figsize=(20,20))\n",
        "ax1[0,0].boxplot(df['fixed acidity'])\n",
        "ax1[0,1].boxplot(df['alcohol'])\n",
        "ax1[0,2].boxplot(df['chlorides'])\n",
        "ax1[1,0].boxplot(df['citric acid'])\n",
        "ax1[1,1].boxplot(df['density'])\n",
        "ax1[1,2].boxplot(df['free sulfur dioxide'])\n",
        "ax1[2,0].boxplot(df['sulphates'])\n",
        "ax1[2,1].boxplot(df['total sulfur dioxide'])\n",
        "ax1[2,2].boxplot(df['residual sugar'])\n",
        "ax1[3,0].boxplot(df['volatile acidity'])\n",
        "ax1[3,1].boxplot(df['quality'])\n",
        "ax1[3,2].boxplot(df['pH'])\n",
        "plt.show(4,3)"
      ],
      "execution_count": null,
      "outputs": [
        {
          "output_type": "display_data",
          "data": {
            "image/png": "[encoded data removed]",
            "text/plain": [
              "<Figure size 1440x1440 with 12 Axes>"
            ]
          },
          "metadata": {
            "needs_background": "light"
          }
        }
      ]
    },
    {
      "cell_type": "code",
      "metadata": {
        "id": "VIpXxGnjBN-K"
      },
      "source": [
        "for i in range(len(df.columns)):\n",
        "  q1=np.percentile(df[df.columns[i]],25)\n",
        "  q3=np.percentile(df[df.columns[i]],75)\n",
        "  iqr = q3-q1\n",
        "  low_b = q1 -(1.5 * iqr )\n",
        "  up_b = q3 +(1.5 * iqr)\n",
        "  outliers = []\n",
        "  for j in df[df.columns[i]]:\n",
        "    if j > up_b or j < low_b:\n",
        "      outliers.append(np.where(df[df.columns[i]] == j))\n",
        "  l= len(outliers)\n",
        "  while l >= 0:\n",
        "    df[df.columns[i]].drop(df[df.columns[i]].index[outliers[l-1]],inplace=True,axis=0)\n",
        "    l -=1\n"
      ],
      "execution_count": null,
      "outputs": []
    },
    {
      "cell_type": "code",
      "metadata": {
        "colab": {
          "base_uri": "https://localhost:8080/"
        },
        "id": "FTdjIJkAPXes",
        "outputId": "f8727e20-05ef-457d-e1ce-7e9f5111ca40"
      },
      "source": [
        "df.shape"
      ],
      "execution_count": null,
      "outputs": [
        {
          "output_type": "execute_result",
          "data": {
            "text/plain": [
              "(1599, 12)"
            ]
          },
          "metadata": {},
          "execution_count": 13
        }
      ]
    },
    {
      "cell_type": "code",
      "metadata": {
        "id": "lAJX1UplPut3"
      },
      "source": [
        "from sklearn.preprocessing import StandardScaler\n",
        "Y = df['quality']\n",
        "X = df.drop('quality', axis=1)\n",
        "scaler = StandardScaler()\n",
        "scaler.fit(X)\n",
        "X = scaler.transform(X)"
      ],
      "execution_count": null,
      "outputs": []
    },
    {
      "cell_type": "code",
      "metadata": {
        "colab": {
          "base_uri": "https://localhost:8080/"
        },
        "id": "y3Wt9yNyILdQ",
        "outputId": "e4654da8-9232-4298-f96a-a0ee1ea60d4b"
      },
      "source": [
        "X.std()"
      ],
      "execution_count": null,
      "outputs": [
        {
          "output_type": "execute_result",
          "data": {
            "text/plain": [
              "1.0"
            ]
          },
          "metadata": {},
          "execution_count": 57
        }
      ]
    },
    {
      "cell_type": "code",
      "metadata": {
        "id": "tl1L4HLF0QWH"
      },
      "source": [
        "X_train, X_test, y_train, y_test = train_test_split(X, Y, test_size = 0.2, random_state = 2)"
      ],
      "execution_count": null,
      "outputs": []
    },
    {
      "cell_type": "markdown",
      "metadata": {
        "id": "L2egXVIuR7mi"
      },
      "source": [
        "#Model 1 – Logistic Regression"
      ]
    },
    {
      "cell_type": "code",
      "metadata": {
        "colab": {
          "base_uri": "https://localhost:8080/"
        },
        "id": "K0p7ux1doUdK",
        "outputId": "0c16aae8-1238-4021-add0-7c70b6720a61"
      },
      "source": [
        "model = LogisticRegression()\n",
        "model.fit(X_train,y_train)\n",
        "X_test\n"
      ],
      "execution_count": null,
      "outputs": [
        {
          "output_type": "execute_result",
          "data": {
            "text/plain": [
              "array([[ 2.11448043, -0.76993107,  1.99765822, ..., -0.84951886,\n",
              "        -0.16611498,  0.35389538],\n",
              "       [ 1.48249695, -1.16098443,  1.27875175, ..., -0.20159105,\n",
              "         0.66006809,  1.01096612],\n",
              "       [-0.35600048,  0.23563472, -0.31311257, ..., -0.97910442,\n",
              "        -0.69723268, -0.58477711],\n",
              "       ...,\n",
              "       [-0.87307788,  1.60432148, -1.39147228, ...,  0.05758008,\n",
              "        -0.87427191, -0.58477711],\n",
              "       [ 0.96541954,  0.17976995, -0.15906119, ..., -0.84951886,\n",
              "        -0.57920652, -0.30317536],\n",
              "       [-0.70071875,  0.34736425, -1.28877135, ...,  1.54781404,\n",
              "        -0.75624575, -0.67864436]])"
            ]
          },
          "metadata": {},
          "execution_count": 14
        }
      ]
    },
    {
      "cell_type": "code",
      "metadata": {
        "id": "baYd4rc1SpQV"
      },
      "source": [
        "pred=model.predict(X_test)"
      ],
      "execution_count": null,
      "outputs": []
    },
    {
      "cell_type": "code",
      "metadata": {
        "colab": {
          "base_uri": "https://localhost:8080/"
        },
        "id": "qYFmLQWjUrQ3",
        "outputId": "bc79108d-13f0-4f1b-ddcd-e9d82d856a61"
      },
      "source": [
        "print(\"Confusion Matrix: \",confusion_matrix(y_test, pred))\n",
        "      \n",
        "print (\"Accuracy : \",accuracy_score(y_test,pred)*100)\n",
        "      \n",
        "print(\"Report : \", classification_report(y_test, pred))"
      ],
      "execution_count": null,
      "outputs": [
        {
          "output_type": "stream",
          "name": "stdout",
          "text": [
            "Confusion Matrix:  [[ 0  0  1  0  0  0]\n",
            " [ 0  1  5  3  0  0]\n",
            " [ 0  0 92 28  2  0]\n",
            " [ 0  0 49 89  9  0]\n",
            " [ 0  0  2 22 12  0]\n",
            " [ 0  0  0  2  3  0]]\n",
            "Accuracy :  60.62499999999999\n",
            "Report :                precision    recall  f1-score   support\n",
            "\n",
            "           3       0.00      0.00      0.00         1\n",
            "           4       1.00      0.11      0.20         9\n",
            "           5       0.62      0.75      0.68       122\n",
            "           6       0.62      0.61      0.61       147\n",
            "           7       0.46      0.33      0.39        36\n",
            "           8       0.00      0.00      0.00         5\n",
            "\n",
            "    accuracy                           0.61       320\n",
            "   macro avg       0.45      0.30      0.31       320\n",
            "weighted avg       0.60      0.61      0.59       320\n",
            "\n"
          ]
        },
        {
          "output_type": "stream",
          "name": "stderr",
          "text": [
            "/usr/local/lib/python3.7/dist-packages/sklearn/metrics/_classification.py:1272: UndefinedMetricWarning: Precision and F-score are ill-defined and being set to 0.0 in labels with no predicted samples. Use `zero_division` parameter to control this behavior.\n",
            "  _warn_prf(average, modifier, msg_start, len(result))\n"
          ]
        }
      ]
    },
    {
      "cell_type": "code",
      "metadata": {
        "colab": {
          "base_uri": "https://localhost:8080/"
        },
        "id": "qk-aaFKSW8f_",
        "outputId": "84a384ef-07c8-4876-a84e-5a94c0b3e49d"
      },
      "source": [
        "cv = KFold(n_splits=5)\n",
        "scores = cross_val_score(model, X_train, y_train, scoring='accuracy', cv=cv);\n",
        "print('Accuracy: %.3f ' % (mean(scores)));"
      ],
      "execution_count": null,
      "outputs": [
        {
          "output_type": "stream",
          "name": "stdout",
          "text": [
            "Accuracy: 0.590 \n"
          ]
        }
      ]
    },
    {
      "cell_type": "markdown",
      "metadata": {
        "id": "oYWisFqpYJJW"
      },
      "source": [
        "accuracy of kfold validation is somewhat equal to the accuracy of logistic regression model"
      ]
    },
    {
      "cell_type": "markdown",
      "metadata": {
        "id": "f3W3H6ZfS9u3"
      },
      "source": [
        "#Model 2 – Decision Tree (ID3)"
      ]
    },
    {
      "cell_type": "code",
      "metadata": {
        "colab": {
          "base_uri": "https://localhost:8080/"
        },
        "id": "WOT71tY1TA8v",
        "outputId": "832a060c-f724-4d3e-80fd-f0fa2e30e986"
      },
      "source": [
        "from sklearn import tree\n",
        "model = tree.DecisionTreeClassifier(criterion='entropy') \n",
        "model.fit(X_train, y_train)"
      ],
      "execution_count": null,
      "outputs": [
        {
          "output_type": "execute_result",
          "data": {
            "text/plain": [
              "DecisionTreeClassifier(ccp_alpha=0.0, class_weight=None, criterion='entropy',\n",
              "                       max_depth=None, max_features=None, max_leaf_nodes=None,\n",
              "                       min_impurity_decrease=0.0, min_impurity_split=None,\n",
              "                       min_samples_leaf=1, min_samples_split=2,\n",
              "                       min_weight_fraction_leaf=0.0, presort='deprecated',\n",
              "                       random_state=None, splitter='best')"
            ]
          },
          "metadata": {},
          "execution_count": 36
        }
      ]
    },
    {
      "cell_type": "code",
      "metadata": {
        "id": "lp7cNKIaTkg5"
      },
      "source": [
        "pred=model.predict(X_test)"
      ],
      "execution_count": null,
      "outputs": []
    },
    {
      "cell_type": "code",
      "metadata": {
        "colab": {
          "base_uri": "https://localhost:8080/"
        },
        "id": "pvolLk9fTreY",
        "outputId": "554ead99-4a6c-4070-d2f2-6ee436ac50f4"
      },
      "source": [
        "print(\"Confusion Matrix: \",confusion_matrix(y_test, pred))\n",
        "      \n",
        "print (\"Accuracy : \",accuracy_score(y_test,pred)*100)\n",
        "      \n",
        "print(\"Report : \", classification_report(y_test, pred))"
      ],
      "execution_count": null,
      "outputs": [
        {
          "output_type": "stream",
          "name": "stdout",
          "text": [
            "Confusion Matrix:  [[ 0  0  1  0  0  0]\n",
            " [ 2  3  2  1  1  0]\n",
            " [ 0  6 78 30  6  2]\n",
            " [ 0  7 36 83 18  3]\n",
            " [ 0  0  5  7 23  1]\n",
            " [ 0  0  0  0  4  1]]\n",
            "Accuracy :  58.75\n",
            "Report :                precision    recall  f1-score   support\n",
            "\n",
            "           3       0.00      0.00      0.00         1\n",
            "           4       0.19      0.33      0.24         9\n",
            "           5       0.64      0.64      0.64       122\n",
            "           6       0.69      0.56      0.62       147\n",
            "           7       0.44      0.64      0.52        36\n",
            "           8       0.14      0.20      0.17         5\n",
            "\n",
            "    accuracy                           0.59       320\n",
            "   macro avg       0.35      0.40      0.36       320\n",
            "weighted avg       0.62      0.59      0.60       320\n",
            "\n"
          ]
        }
      ]
    },
    {
      "cell_type": "code",
      "metadata": {
        "colab": {
          "base_uri": "https://localhost:8080/"
        },
        "id": "iFrduSWdXb1N",
        "outputId": "21e9dc4e-020e-4fe7-a0bb-6c97704fe530"
      },
      "source": [
        "cv = KFold(n_splits=5)\n",
        "scores = cross_val_score(model, X_train, y_train, scoring='accuracy', cv=cv)\n",
        "print('Accuracy: %.3f ' % (mean(scores)))"
      ],
      "execution_count": null,
      "outputs": [
        {
          "output_type": "stream",
          "name": "stdout",
          "text": [
            "Accuracy: 0.577 \n"
          ]
        }
      ]
    },
    {
      "cell_type": "markdown",
      "metadata": {
        "id": "AOkDXqtwYRnZ"
      },
      "source": [
        "accuracy of kfold validation is slightly lesser than decision tree"
      ]
    },
    {
      "cell_type": "markdown",
      "metadata": {
        "id": "lkQw0SswT_sp"
      },
      "source": [
        "#Model 3 – Random Forest \n",
        "\n"
      ]
    },
    {
      "cell_type": "code",
      "metadata": {
        "colab": {
          "base_uri": "https://localhost:8080/"
        },
        "id": "uyTDgNYtTxwU",
        "outputId": "351b87db-638e-49c7-db18-3a6f585e0045"
      },
      "source": [
        "from sklearn.ensemble import RandomForestClassifier\n",
        "\n",
        "model = RandomForestClassifier()\n",
        "model.fit(X_train,y_train)"
      ],
      "execution_count": null,
      "outputs": [
        {
          "output_type": "execute_result",
          "data": {
            "text/plain": [
              "RandomForestClassifier(bootstrap=True, ccp_alpha=0.0, class_weight=None,\n",
              "                       criterion='gini', max_depth=None, max_features='auto',\n",
              "                       max_leaf_nodes=None, max_samples=None,\n",
              "                       min_impurity_decrease=0.0, min_impurity_split=None,\n",
              "                       min_samples_leaf=1, min_samples_split=2,\n",
              "                       min_weight_fraction_leaf=0.0, n_estimators=100,\n",
              "                       n_jobs=None, oob_score=False, random_state=None,\n",
              "                       verbose=0, warm_start=False)"
            ]
          },
          "metadata": {},
          "execution_count": 44
        }
      ]
    },
    {
      "cell_type": "code",
      "metadata": {
        "id": "_rXiW0WnUZMy"
      },
      "source": [
        "pred=model.predict(X_test)\n"
      ],
      "execution_count": null,
      "outputs": []
    },
    {
      "cell_type": "code",
      "metadata": {
        "colab": {
          "base_uri": "https://localhost:8080/"
        },
        "id": "q80LXc6DUvhT",
        "outputId": "1fb32a10-d425-440e-a0df-54c7be73ea9b"
      },
      "source": [
        "print(\"Confusion Matrix: \",confusion_matrix(y_test, pred))\n",
        "      \n",
        "print (\"Accuracy : \",accuracy_score(y_test,pred)*100)\n",
        "      \n",
        "print(\"Report : \", classification_report(y_test, pred))"
      ],
      "execution_count": null,
      "outputs": [
        {
          "output_type": "stream",
          "name": "stdout",
          "text": [
            "Confusion Matrix:  [[  0   0   1   0   0   0]\n",
            " [  0   0   5   4   0   0]\n",
            " [  0   0  98  22   2   0]\n",
            " [  0   0  37 103   7   0]\n",
            " [  0   0   3   9  24   0]\n",
            " [  0   0   0   0   4   1]]\n",
            "Accuracy :  70.625\n",
            "Report :                precision    recall  f1-score   support\n",
            "\n",
            "           3       0.00      0.00      0.00         1\n",
            "           4       0.00      0.00      0.00         9\n",
            "           5       0.68      0.80      0.74       122\n",
            "           6       0.75      0.70      0.72       147\n",
            "           7       0.65      0.67      0.66        36\n",
            "           8       1.00      0.20      0.33         5\n",
            "\n",
            "    accuracy                           0.71       320\n",
            "   macro avg       0.51      0.40      0.41       320\n",
            "weighted avg       0.69      0.71      0.69       320\n",
            "\n"
          ]
        },
        {
          "output_type": "stream",
          "name": "stderr",
          "text": [
            "/usr/local/lib/python3.7/dist-packages/sklearn/metrics/_classification.py:1272: UndefinedMetricWarning: Precision and F-score are ill-defined and being set to 0.0 in labels with no predicted samples. Use `zero_division` parameter to control this behavior.\n",
            "  _warn_prf(average, modifier, msg_start, len(result))\n"
          ]
        }
      ]
    },
    {
      "cell_type": "code",
      "metadata": {
        "colab": {
          "base_uri": "https://localhost:8080/"
        },
        "id": "oJ1BA_eRXgJ7",
        "outputId": "1c1608b5-36fe-403d-80b8-88bdc42b37d8"
      },
      "source": [
        "cv = KFold(n_splits=5)\n",
        "scores = cross_val_score(model, X_train, y_train, scoring='accuracy', cv=cv, n_jobs=-1)\n",
        "print('Accuracy: %.3f ' % (mean(scores)))"
      ],
      "execution_count": null,
      "outputs": [
        {
          "output_type": "stream",
          "name": "stdout",
          "text": [
            "Accuracy: 0.662 \n"
          ]
        }
      ]
    },
    {
      "cell_type": "markdown",
      "metadata": {
        "id": "rH4dEKIfhTOY"
      },
      "source": [
        "accuracy of kfold validation is lesser than Random forest model"
      ]
    },
    {
      "cell_type": "markdown",
      "metadata": {
        "id": "eXHDcKxxUJss"
      },
      "source": [
        "#Model 4 – K Nearest Neighbor"
      ]
    },
    {
      "cell_type": "code",
      "metadata": {
        "colab": {
          "base_uri": "https://localhost:8080/"
        },
        "id": "SqKP25lAVJTZ",
        "outputId": "278a75c9-676b-4df4-e8be-8a499d057d70"
      },
      "source": [
        "from sklearn.neighbors import KNeighborsClassifier\n",
        "l=np.sqrt(len(df))\n",
        "l=np.floor(l)\n",
        "l"
      ],
      "execution_count": null,
      "outputs": [
        {
          "output_type": "execute_result",
          "data": {
            "text/plain": [
              "39.0"
            ]
          },
          "metadata": {},
          "execution_count": 52
        }
      ]
    },
    {
      "cell_type": "code",
      "metadata": {
        "colab": {
          "base_uri": "https://localhost:8080/"
        },
        "id": "VagChHL0UyJ4",
        "outputId": "fe6c063e-1ce5-45e7-9767-f136327614f0"
      },
      "source": [
        "knn = KNeighborsClassifier(n_neighbors=39)\n",
        "knn.fit(X_train, y_train)"
      ],
      "execution_count": null,
      "outputs": [
        {
          "output_type": "execute_result",
          "data": {
            "text/plain": [
              "KNeighborsClassifier(algorithm='auto', leaf_size=30, metric='minkowski',\n",
              "                     metric_params=None, n_jobs=None, n_neighbors=39, p=2,\n",
              "                     weights='uniform')"
            ]
          },
          "metadata": {},
          "execution_count": 53
        }
      ]
    },
    {
      "cell_type": "code",
      "metadata": {
        "id": "dOW6qXjJVcl-"
      },
      "source": [
        "pred=model.predict(X_test)"
      ],
      "execution_count": null,
      "outputs": []
    },
    {
      "cell_type": "code",
      "metadata": {
        "colab": {
          "base_uri": "https://localhost:8080/"
        },
        "id": "8INNU00Qbvl0",
        "outputId": "cf1d5920-45cd-4765-967d-c6fe9a568afa"
      },
      "source": [
        "print(\"Confusion Matrix: \",confusion_matrix(y_test, pred))\n",
        "      \n",
        "print (\"Accuracy : \",accuracy_score(y_test,pred)*100)\n",
        "      \n",
        "print(\"Report : \", classification_report(y_test, pred))"
      ],
      "execution_count": null,
      "outputs": [
        {
          "output_type": "stream",
          "name": "stdout",
          "text": [
            "Confusion Matrix:  [[  0   0   1   0   0   0]\n",
            " [  0   0   5   4   0   0]\n",
            " [  0   0  98  22   2   0]\n",
            " [  0   0  37 103   7   0]\n",
            " [  0   0   3   9  24   0]\n",
            " [  0   0   0   0   4   1]]\n",
            "Accuracy :  70.625\n",
            "Report :                precision    recall  f1-score   support\n",
            "\n",
            "           3       0.00      0.00      0.00         1\n",
            "           4       0.00      0.00      0.00         9\n",
            "           5       0.68      0.80      0.74       122\n",
            "           6       0.75      0.70      0.72       147\n",
            "           7       0.65      0.67      0.66        36\n",
            "           8       1.00      0.20      0.33         5\n",
            "\n",
            "    accuracy                           0.71       320\n",
            "   macro avg       0.51      0.40      0.41       320\n",
            "weighted avg       0.69      0.71      0.69       320\n",
            "\n"
          ]
        },
        {
          "output_type": "stream",
          "name": "stderr",
          "text": [
            "/usr/local/lib/python3.7/dist-packages/sklearn/metrics/_classification.py:1272: UndefinedMetricWarning: Precision and F-score are ill-defined and being set to 0.0 in labels with no predicted samples. Use `zero_division` parameter to control this behavior.\n",
            "  _warn_prf(average, modifier, msg_start, len(result))\n"
          ]
        }
      ]
    },
    {
      "cell_type": "code",
      "metadata": {
        "colab": {
          "base_uri": "https://localhost:8080/"
        },
        "id": "imKoC2e4bz8l",
        "outputId": "1fc73a47-8700-48ff-b2bf-273a460010a0"
      },
      "source": [
        "cv = KFold(n_splits=5)\n",
        "scores = cross_val_score(model, X_train, y_train, scoring='accuracy', cv=cv)\n",
        "print('Accuracy: %.3f ' % (mean(scores)))"
      ],
      "execution_count": null,
      "outputs": [
        {
          "output_type": "stream",
          "name": "stdout",
          "text": [
            "Accuracy: 0.667 \n"
          ]
        }
      ]
    },
    {
      "cell_type": "markdown",
      "metadata": {
        "id": "i-hbQk_fb3Mg"
      },
      "source": [
        "accuracy of kfold validation is lesser than KNN model"
      ]
    },
    {
      "cell_type": "markdown",
      "metadata": {
        "id": "G_oKuxDwFDLP"
      },
      "source": [
        "classifier with higher accuracy in descending order:\n",
        "1.   random forest and knn\n",
        "2.   logistic regression\n",
        "3.   decision tree\n"
      ]
    },
    {
      "cell_type": "markdown",
      "metadata": {
        "id": "07fa9Q9sb8AI"
      },
      "source": [
        "ON COMPARISON RANDOM FOREST AND KNN MODEL HAS GOT HIGH ACCURACY "
      ]
    }
  ]
}